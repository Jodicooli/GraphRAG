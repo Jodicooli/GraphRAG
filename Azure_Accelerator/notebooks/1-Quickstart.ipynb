{
 "cells": [
  {
   "cell_type": "markdown",
   "metadata": {},
   "source": [
    "# GraphRAG Quickstart"
   ]
  },
  {
   "cell_type": "markdown",
   "metadata": {},
   "source": [
    "## Prerequisites\n",
    "Install 3rd party packages, not part of the Python Standard Library, to run the notebook"
   ]
  },
  {
   "cell_type": "code",
   "execution_count": 1,
   "metadata": {},
   "outputs": [],
   "source": [
    "! pip install devtools python-magic requests tqdm"
   ]
  },
  {
   "cell_type": "code",
   "execution_count": 2,
   "metadata": {},
   "outputs": [],
   "source": [
    "import getpass\n",
    "import json\n",
    "import time\n",
    "from pathlib import Path\n",
    "\n",
    "import magic\n",
    "import requests\n",
    "from devtools import pprint\n",
    "from tqdm import tqdm"
   ]
  },
  {
   "cell_type": "markdown",
   "metadata": {},
   "source": [
    "## (REQUIRED) User Configuration\n",
    "Set the API subscription key, API base endpoint, and some file directory names that will be referenced later in the notebook."
   ]
  },
  {
   "cell_type": "markdown",
   "metadata": {},
   "source": [
    "#### API subscription key\n",
    "\n",
    "APIM supports multiple forms of authentication and access control (e.g. managed identity). For this notebook demonstration, we will use a **[subscription key](https://learn.microsoft.com/en-us/azure/api-management/api-management-subscriptions)**. To locate this key, visit the Azure Portal. The subscription key can be found under `<my_resource_group> --> <API Management service> --> <APIs> --> <Subscriptions> --> <Built-in all-access subscription> Primary Key`. For multiple API users, individual subscription keys can be generated."
   ]
  },
  {
   "cell_type": "code",
   "execution_count": 3,
   "metadata": {},
   "outputs": [],
   "source": [
    "ocp_apim_subscription_key = getpass.getpass(\n",
    "    \"Enter the subscription key to the GraphRag APIM:\"\n",
    ")\n",
    "\n",
    "\"\"\"\n",
    "\"Ocp-Apim-Subscription-Key\": \n",
    "    This is a custom HTTP header used by Azure API Management service (APIM) to \n",
    "    authenticate API requests. The value for this key should be set to the subscription \n",
    "    key provided by the Azure APIM instance in your GraphRAG resource group.\n",
    "\"\"\"\n",
    "headers = {\"Ocp-Apim-Subscription-Key\": ocp_apim_subscription_key}"
   ]
  },
  {
   "cell_type": "markdown",
   "metadata": {},
   "source": [
    "#### Setup directories and API endpoint\n",
    "\n",
    "For demonstration purposes, please use the provided `get-wiki-articles.py` script to download a small set of wikipedia articles or provide your own data (graphrag requires txt files to be utf-8 encoded)."
   ]
  },
  {
   "cell_type": "code",
   "execution_count": 4,
   "metadata": {},
   "outputs": [],
   "source": [
    "\"\"\"\n",
    "These parameters must be defined by the notebook user:\n",
    "\n",
    "- file_directory: a local directory of text files. The file structure should be flat,\n",
    "                  with no nested directories. (i.e. file_directory/file1.txt, file_directory/file2.txt, etc.)\n",
    "- storage_name:   a unique name to identify a blob storage container in Azure where files\n",
    "                  from `file_directory` will be uploaded.\n",
    "- index_name:     a unique name to identify a single graphrag knowledge graph index.\n",
    "                  Note: Multiple indexes may be created from the same `storage_name` blob storage container.\n",
    "- endpoint:       the base/endpoint URL for the GraphRAG API (this is the Gateway URL found in the APIM resource).\n",
    "\"\"\"\n",
    "\n",
    "file_directory = \"data\"\n",
    "storage_name = \"datatest\"\n",
    "index_name = \"indexdata\"\n",
    "endpoint = \"https://apim-smtxoz24u6jxg.azure-api.net\""
   ]
  },
  {
   "cell_type": "code",
   "execution_count": 5,
   "metadata": {},
   "outputs": [],
   "source": [
    "assert (\n",
    "    file_directory != \"\" and storage_name != \"\" and index_name != \"\" and endpoint != \"\"\n",
    ")"
   ]
  },
  {
   "cell_type": "markdown",
   "metadata": {},
   "source": [
    "## Upload Files\n",
    "\n",
    "For a demonstration of how to index data in graphrag, we first need to ingest a few files into graphrag."
   ]
  },
  {
   "cell_type": "code",
   "execution_count": 6,
   "metadata": {},
   "outputs": [
    {
     "name": "stderr",
     "output_type": "stream",
     "text": [
      "  0%|          | 0/1 [00:00<?, ?it/s]"
     ]
    },
    {
     "name": "stderr",
     "output_type": "stream",
     "text": [
      "100%|██████████| 1/1 [00:00<00:00, 59.03it/s]\n"
     ]
    },
    {
     "name": "stdout",
     "output_type": "stream",
     "text": [
      "<Response [200]>\n"
     ]
    }
   ],
   "source": [
    "def upload_files(\n",
    "    file_directory: str,\n",
    "    container_name: str,\n",
    "    batch_size: int = 100,\n",
    "    overwrite: bool = True,\n",
    "    max_retries: int = 5,\n",
    ") -> requests.Response | list[Path]:\n",
    "    \"\"\"\n",
    "    Upload files to a blob storage container.\n",
    "\n",
    "    Args:\n",
    "    file_directory - a local directory of .txt files to upload. All files must be in utf-8 encoding.\n",
    "    container_name - a unique name for the Azure storage container.\n",
    "    batch_size - the number of files to upload in a single batch.\n",
    "    overwrite - whether or not to overwrite files if they already exist in the storage container.\n",
    "    max_retries - the maximum number of times to retry uploading a batch of files if the API is busy.\n",
    "\n",
    "    NOTE: Uploading files may sometimes fail if the blob container was recently deleted\n",
    "    (i.e. a few seconds before. The solution \"in practice\" is to sleep a few seconds and try again.\n",
    "    \"\"\"\n",
    "    url = endpoint + \"/data\"\n",
    "\n",
    "    def upload_batch(\n",
    "        files: list, container_name: str, overwrite: bool, max_retries: int\n",
    "    ) -> requests.Response:\n",
    "        for _ in range(max_retries):\n",
    "            response = requests.post(\n",
    "                url=url,\n",
    "                files=files,\n",
    "                params={\"container_name\": container_name, \"overwrite\": overwrite},\n",
    "                headers=headers,\n",
    "            )\n",
    "            # API may be busy, retry\n",
    "            if response.status_code == 500:\n",
    "                print(\"API busy. Sleeping and will try again.\")\n",
    "                time.sleep(10)\n",
    "                continue\n",
    "            return response\n",
    "        return response\n",
    "\n",
    "    batch_files = []\n",
    "    accepted_file_types = [\"text/plain\"]\n",
    "    filepaths = list(Path(file_directory).iterdir())\n",
    "    for file in tqdm(filepaths):\n",
    "        # validate that file is a file, has acceptable file type, has a .txt extension, and has utf-8 encoding\n",
    "        if (\n",
    "            not file.is_file()\n",
    "            or file.suffix != \".txt\"\n",
    "            or magic.from_file(str(file), mime=True) not in accepted_file_types\n",
    "        ):\n",
    "            print(f\"Skipping invalid file: {file}\")\n",
    "            continue\n",
    "        # open and decode file as utf-8, ignore bad characters\n",
    "        batch_files.append(\n",
    "            (\"files\", open(file=file, mode=\"r\", encoding=\"utf-8\", errors=\"ignore\"))\n",
    "        )\n",
    "        # upload batch of files\n",
    "        if len(batch_files) == batch_size:\n",
    "            response = upload_batch(batch_files, container_name, overwrite, max_retries)\n",
    "            # if response is not ok, return early\n",
    "            if not response.ok:\n",
    "                return response\n",
    "            batch_files.clear()\n",
    "    # upload remaining files\n",
    "    if len(batch_files) > 0:\n",
    "        response = upload_batch(batch_files, container_name, overwrite, max_retries)\n",
    "    return response\n",
    "\n",
    "\n",
    "response = upload_files(\n",
    "    file_directory=file_directory,\n",
    "    container_name=storage_name,\n",
    "    batch_size=100,\n",
    "    overwrite=True,\n",
    ")\n",
    "if not response.ok:\n",
    "    print(response.text)\n",
    "else:\n",
    "    print(response)"
   ]
  },
  {
   "cell_type": "markdown",
   "metadata": {},
   "source": [
    "## Build an Index\n",
    "\n",
    "After data files have been uploaded, we can construct a knowledge graph by building a search index."
   ]
  },
  {
   "cell_type": "code",
   "execution_count": 7,
   "metadata": {},
   "outputs": [
    {
     "name": "stdout",
     "output_type": "stream",
     "text": [
      "<Response [200]>\n",
      "{\"status\":\"Indexing job scheduled\"}\n"
     ]
    }
   ],
   "source": [
    "def build_index(\n",
    "    storage_name: str,\n",
    "    index_name: str,\n",
    ") -> requests.Response:\n",
    "    \"\"\"Create a search index.\n",
    "    This function kicks off a job that builds a knowledge graph index from files located in a blob storage container.\n",
    "    \"\"\"\n",
    "    url = endpoint + \"/index\"\n",
    "    return requests.post(\n",
    "        url,\n",
    "        params={\n",
    "            \"index_container_name\": index_name,\n",
    "            \"storage_container_name\": storage_name,\n",
    "        },\n",
    "        headers=headers,\n",
    "    )\n",
    "\n",
    "\n",
    "response = build_index(storage_name=storage_name, index_name=index_name)\n",
    "print(response)\n",
    "if response.ok:\n",
    "    print(response.text)\n",
    "else:\n",
    "    print(f\"Failed to submit job.\\nStatus: {response.text}\")"
   ]
  },
  {
   "cell_type": "markdown",
   "metadata": {},
   "source": [
    "### Check status of an indexing job\n",
    "\n",
    "Please wait for your index to reach 100 percent completion before continuing on to the next section (running queries). You may rerun the next cell multiple times to monitor status. Note: the indexing speed of graphrag is directly correlated to the TPM quota of the Azure OpenAI model you are using."
   ]
  },
  {
   "cell_type": "code",
   "execution_count": 34,
   "metadata": {},
   "outputs": [
    {
     "name": "stdout",
     "output_type": "stream",
     "text": [
      "{\n",
      "    'status_code': 200,\n",
      "    'index_name': 'indexdata',\n",
      "    'storage_name': 'datatest',\n",
      "    'status': 'complete',\n",
      "    'percent_complete': 100.0,\n",
      "    'progress': '11 out of 11 workflows completed successfully.',\n",
      "}\n"
     ]
    }
   ],
   "source": [
    "def index_status(index_name: str) -> requests.Response:\n",
    "    url = endpoint + f\"/index/status/{index_name}\"\n",
    "    return requests.get(url, headers=headers)\n",
    "\n",
    "\n",
    "response = index_status(index_name)\n",
    "pprint(response.json())"
   ]
  },
  {
   "cell_type": "markdown",
   "metadata": {},
   "source": [
    "## Query\n",
    "\n",
    "Once an indexing job is complete, the knowledge graph is ready to query. Two types of queries (global and local) are currently supported. We encourage you to try both and experience the difference in responses. Note that query response time is also correlated to the TPM quota of the Azure OpenAI model you are using."
   ]
  },
  {
   "cell_type": "code",
   "execution_count": 35,
   "metadata": {},
   "outputs": [],
   "source": [
    "# a helper function to parse out the result from a query response\n",
    "def parse_query_response(\n",
    "    response: requests.Response, return_context_data: bool = False\n",
    ") -> requests.Response | dict[list[dict]]:\n",
    "    \"\"\"\n",
    "    Print response['result'] value and return context data.\n",
    "    \"\"\"\n",
    "    if response.ok:\n",
    "        print(json.loads(response.text)[\"result\"])\n",
    "        if return_context_data:\n",
    "            return json.loads(response.text)[\"context_data\"]\n",
    "        return response\n",
    "    else:\n",
    "        print(response.reason)\n",
    "        print(response.content)\n",
    "        return response"
   ]
  },
  {
   "cell_type": "markdown",
   "metadata": {},
   "source": [
    "### Global Query \n",
    "\n",
    "Global queries are resource-intensive, but provide good responses to questions that require an understanding of the dataset as a whole."
   ]
  },
  {
   "cell_type": "code",
   "execution_count": 36,
   "metadata": {},
   "outputs": [
    {
     "name": "stdout",
     "output_type": "stream",
     "text": [
      "### Best Methods to Contact Support for Returns\n",
      "\n",
      "When you need to initiate a return or have questions about the return process, the most effective ways to contact support are through email or live chat. Each method offers distinct advantages depending on your needs:\n",
      "\n",
      "#### Email\n",
      "Using email to contact support about a return is highly recommended. It allows you to provide detailed information about your issue and attach any relevant documents or receipts. This method ensures that there is a record of your communication, which can be useful for follow-up or if further documentation is needed. Email communications are also typically monitored closely, ensuring that your query is directed to the right department for a timely response.\n",
      "\n",
      "#### Live Chat\n",
      "For immediate assistance, live chat is an excellent option. This method connects you directly with a support agent, enabling real-time conversation and quick resolution of simple issues. Live chat is particularly useful if you need quick answers about the return process or if you encounter problems that need immediate attention.\n",
      "\n",
      "Both methods are designed to facilitate the return process efficiently and are supported by the company's customer service infrastructure [Data: Reports (2)].\n",
      "CPU times: total: 15.6 ms\n",
      "Wall time: 12.4 s\n"
     ]
    },
    {
     "data": {
      "text/plain": [
       "{'reports': [{'id': '3',\n",
       "   'title': 'Payments and Subscriptions Community',\n",
       "   'occurrence weight': 1.0,\n",
       "   'content': '# Payments and Subscriptions Community\\n\\nThe community revolves around Payments and Subscriptions, with Payments being related to payment policy, updating payment info, live chat, and refunds, while Subscriptions are related to subscription policy, canceling subscriptions, and payments. Payments have relationships with Payment Policy and Update Payment Info, while Subscriptions have relationships with Subscription Policy and Cancel Subscription.\\n\\n## Payments and Payment Policy relationship\\n\\nThe relationship between Payments and Payment Policy is crucial as it dictates that payments must follow the payment policy. This ensures that payment processes are in compliance with the established guidelines, which is essential for financial transparency and customer trust. Any deviations from the payment policy could lead to financial risks and customer dissatisfaction. [Data: Relationships (18)]\\n\\n## Payments and Update Payment Info relationship\\n\\nThe relationship between Payments and Update Payment Info indicates that users can update their payment information. This functionality is important for maintaining accurate payment details and ensuring smooth transactions. Any issues with updating payment info could result in payment failures or incorrect charges, impacting customer experience. [Data: Relationships (19)]\\n\\n## Subscriptions and Subscription Policy relationship\\n\\nThe relationship between Subscriptions and Subscription Policy stipulates that subscriptions must adhere to the subscription policy. This ensures that subscription processes align with the specified terms and conditions, which is crucial for managing recurring revenue streams and customer expectations. Non-compliance with the subscription policy could lead to legal issues and customer dissatisfaction. [Data: Relationships (22)]\\n\\n## Subscriptions and Cancel Subscription relationship\\n\\nThe relationship between Subscriptions and Cancel Subscription allows users to cancel their subscriptions. This feature is essential for giving customers control over their subscription commitments and ensuring a positive user experience. Any difficulties in canceling subscriptions could result in customer complaints and reputational damage. [Data: Relationships (23)]',\n",
       "   'rank': 7.5},\n",
       "  {'id': '1',\n",
       "   'title': 'Shipping and Delivery Community',\n",
       "   'occurrence weight': 1.0,\n",
       "   'content': \"# Shipping and Delivery Community\\n\\nThe community revolves around shipping and delivery, with key entities such as Shipping, Shipping Zones, Delivery, Orders, and Track Order. Shipping is related to shipping zones, delivery, and live chat, while orders are related to track order and shipping. Relationships exist between Shipping and Shipping Zones, Shipping and Delivery, Orders and Track Order, and Returns and Live Chat.\\n\\n## Shipping as a central entity\\n\\nShipping is a central entity in this community, connecting various other entities such as Shipping Zones, Delivery, and Live Chat. The importance of shipping in the supply chain is evident, with shipping zones indicating the geographical areas where shipping is available. The relationship between shipping and delivery is crucial for understanding the logistics of the community. [Data: Entities (7, 18, 19), Relationships (9, 10)]\\n\\n## Orders and Track Order relationship\\n\\nOrders and Track Order have a direct relationship, where orders can be tracked. This relationship is essential for customer satisfaction and efficient order management. Understanding the process of tracking orders can improve the overall customer experience and streamline operations. [Data: Relationships (13)]\\n\\n## Live Chat for customer support\\n\\nLive Chat plays a significant role in the community by providing customer support and facilitating returns. The ability to request returns via live chat enhances customer convenience and satisfaction. Live Chat's degree of 3 indicates its importance in the community for resolving customer queries and issues. [Data: Entities (15), Relationships (3)]\\n\\n## Shipping Zones for logistics\\n\\nShipping Zones are crucial for logistics, as they indicate the geographical areas where shipping is available. Understanding shipping zones helps in optimizing delivery routes, managing inventory, and ensuring timely deliveries. The relationship between shipping and shipping zones is vital for efficient supply chain management. [Data: Entities (18), Relationships (9)]\",\n",
       "   'rank': 7.5},\n",
       "  {'id': '2',\n",
       "   'title': 'Returns and Refunds Community',\n",
       "   'occurrence weight': 1.0,\n",
       "   'content': \"# Returns and Refunds Community\\n\\nThe community revolves around Returns and Refunds, with Returns being related to return policy, refunds, email, live chat, and request return on physical products, and Refunds being related to refund timeline, email, and request return. Returns can be processed via email, requested using the request return action, and are governed by the return policy. Refunds are issued according to the refund timeline.\\n\\n## Returns as the central entity\\n\\nReturns play a central role in this community, encompassing various aspects such as return policy, refunds, email, live chat, and request return on physical products. The relationships of Returns with email, request return, and return policy highlight its significance in handling customer returns and ensuring customer satisfaction. The degree of Returns being 5 indicates its critical importance in the community [Data: Entities (5, 13, 14, 16); Relationships (2, 4, 0)]\\n\\n## Refunds' importance in the community\\n\\nRefunds are crucial in this community, as they are related to refund timeline, email, and request return. The relationship between Refunds and refund timeline indicates the importance of issuing refunds according to a specified timeline. The degree of Refunds being 5 underscores its critical role in ensuring customer satisfaction and business operations related to returns [Data: Entities (6, 17); Relationships (5)]\\n\\n## Email and Request Return as key components\\n\\nEmail and Request Return are key components in the community, as they are essential in the process of handling returns. Returns can be processed and requested via email, highlighting the importance of email communication in managing returns. Request Return is a crucial action in initiating returns, emphasizing its significance in the community's operations. The relationships of Returns with email and request return underscore the critical role of these entities in facilitating returns [Data: Entities (14, 16); Relationships (2, 4)]\\n\\n## Return Policy's impact on returns\\n\\nReturn Policy plays a significant role in governing returns within the community. Returns are governed by the return policy, indicating that the policies and guidelines set forth in the return policy have a direct impact on how returns are processed and managed. Understanding the specifics of the return policy is crucial in ensuring compliance and customer satisfaction in the community [Data: Entities (13); Relationships (0)]\\n\\n## Refund Timeline's role in issuing refunds\\n\\nRefund Timeline is critical in the community, specifying the time frame for issuing refunds after a return is received. The relationship between Refunds and refund timeline highlights the importance of adhering to a specified timeline in issuing refunds, which is essential for maintaining customer trust and satisfaction. Compliance with the refund timeline is crucial for the community's reputation and operational efficiency [Data: Entities (17); Relationships (5)]\",\n",
       "   'rank': 7.5},\n",
       "  {'id': '0',\n",
       "   'title': 'Account Security and Fraud Reporting',\n",
       "   'occurrence weight': 1.0,\n",
       "   'content': \"# Account Security and Fraud Reporting\\n\\nThe community revolves around account security, including reset password, account policy, and security measures such as reporting fraud. The entities within this community are interconnected through relationships that emphasize the importance of adhering to account policies and reporting fraudulent activities.\\n\\n## Account Security as a Central Concern\\n\\nAccount security is a central concern within this community, with entities like reset password and account policy playing crucial roles in ensuring the safety and integrity of user accounts. The interconnected relationships between these entities highlight the importance of maintaining strict security measures to protect sensitive information and prevent unauthorized access [Data: Entities (9, 21, 22, 12); Relationships (14, 15)].\\n\\n## Role of Security in Fraud Reporting\\n\\nSecurity measures within this community extend to include reporting fraud as a key aspect of maintaining integrity and trust. The relationships between security and fraud reporting emphasize the need for prompt and accurate reporting of any fraudulent activities to safeguard the community's assets and reputation. Understanding the process of reporting fraud and the channels available, such as phone communication, is essential for effective risk management [Data: Entities (12, 27, 28); Relationships (24, 25)].\",\n",
       "   'rank': 7.5}],\n",
       " 'entities': [],\n",
       " 'relationships': [],\n",
       " 'claims': [],\n",
       " 'sources': []}"
      ]
     },
     "execution_count": 36,
     "metadata": {},
     "output_type": "execute_result"
    }
   ],
   "source": [
    "%%time\n",
    "\n",
    "\n",
    "def global_search(\n",
    "    index_name: str | list[str], query: str, community_level: int\n",
    ") -> requests.Response:\n",
    "    \"\"\"Run a global query over the knowledge graph(s) associated with one or more indexes\"\"\"\n",
    "    url = endpoint + \"/query/global\"\n",
    "    # optional parameter: community level to query the graph at (default for global query = 1)\n",
    "    request = {\n",
    "        \"index_name\": index_name,\n",
    "        \"query\": query,\n",
    "        \"community_level\": community_level,\n",
    "    }\n",
    "    return requests.post(url, json=request, headers=headers)\n",
    "\n",
    "\n",
    "# perform a global query\n",
    "global_response = global_search(\n",
    "    index_name=index_name,\n",
    "    query=\"What’s the best way to contact support about a return?\",\n",
    "    community_level=1,\n",
    ")\n",
    "global_response_data = parse_query_response(global_response, return_context_data=True)\n",
    "global_response_data"
   ]
  }
 ],
 "metadata": {
  "kernelspec": {
   "display_name": "Python 3",
   "language": "python",
   "name": "python3"
  },
  "language_info": {
   "codemirror_mode": {
    "name": "ipython",
    "version": 3
   },
   "file_extension": ".py",
   "mimetype": "text/x-python",
   "name": "python",
   "nbconvert_exporter": "python",
   "pygments_lexer": "ipython3",
   "version": "3.12.3"
  }
 },
 "nbformat": 4,
 "nbformat_minor": 2
}
